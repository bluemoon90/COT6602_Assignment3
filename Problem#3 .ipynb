{
 "cells": [
  {
   "cell_type": "code",
   "execution_count": 1,
   "metadata": {},
   "outputs": [],
   "source": [
    "import numpy as np\n",
    "import matplotlib.pyplot as plt"
   ]
  },
  {
   "cell_type": "code",
   "execution_count": 2,
   "metadata": {},
   "outputs": [],
   "source": [
    "Zero = np.array([[1], [0.]])\n",
    "One = np.array([[0], [1.]])\n",
    "\n",
    "P0 = np.dot(Zero, Zero.T)\n",
    "P1 = np.dot(One, One.T)\n",
    "\n",
    "sigmax = np.array([[0, 1], [1, 0.]])\n",
    "sigmaz = np.array([[1, 0], [0, -1]])\n",
    "\n",
    "def groundstate(X):\n",
    "    eigen_values, eigen_vectors = np.linalg.eig(X)\n",
    "    index = eigen_values.argsort()\n",
    "    eigen_vectors = eigen_vectors[:, index]\n",
    "    return eigen_vectors[:, 0]\n",
    "\n",
    "def clause_to_H(n, clause):\n",
    "    # convert a clause like [1,-3]\n",
    "    # which means x1 or ~x3 to\n",
    "    # P0 x I x P1 x I x I   where x is tensor product\n",
    "    H_list = [np.eye(2)]*n\n",
    "    for i in clause:\n",
    "        if i>0: H_list[i-1] = P0\n",
    "        else:   H_list[-i-1] = P1\n",
    "    H = np.array([[1.0]])\n",
    "    for i in H_list:\n",
    "        H = np.kron(H, i)\n",
    "    return H\n",
    "\n",
    "def evaluate(expression):\n",
    "    # returns a list of boolean values of expression\n",
    "    # for all possible combination of variable values.\n",
    "    n = max(max(abs(v) for v in clause) for clause in expression)\n",
    "    h = {}\n",
    "    for i in range(2**n):\n",
    "        hi = True\n",
    "        for c in expression:\n",
    "            clause_true = False\n",
    "            for ci in c:\n",
    "                if (ci>0 and i&(2**(ci-1))) or \\\n",
    "                    (ci<0 and ~i&(2**(-ci-1))):\n",
    "                    clause_true = True                \n",
    "            hi = hi and clause_true\n",
    "        h[i] = hi\n",
    "    return h"
   ]
  },
  {
   "cell_type": "code",
   "execution_count": 3,
   "metadata": {},
   "outputs": [],
   "source": [
    "# lets choose the expression \n",
    "# x1 and x2 and x3 and ~x4 and ~x5\n",
    "formula = [[1],[2],[3],[-4],[-5]]"
   ]
  },
  {
   "cell_type": "code",
   "execution_count": 4,
   "metadata": {},
   "outputs": [
    {
     "name": "stdout",
     "output_type": "stream",
     "text": [
      "0 \n",
      "1 \n",
      "2 \n",
      "3 \n",
      "4 \n",
      "5 \n",
      "6 \n",
      "7 T\n",
      "8 \n",
      "9 \n",
      "10 \n",
      "11 \n",
      "12 \n",
      "13 \n",
      "14 \n",
      "15 \n",
      "16 \n",
      "17 \n",
      "18 \n",
      "19 \n",
      "20 \n",
      "21 \n",
      "22 \n",
      "23 \n",
      "24 \n",
      "25 \n",
      "26 \n",
      "27 \n",
      "28 \n",
      "29 \n",
      "30 \n",
      "31 \n"
     ]
    }
   ],
   "source": [
    "# it has a unique solution\n",
    "h = evaluate(formula)\n",
    "for k, v in h.items():\n",
    "    print(k, \"T\" if v else \"\")"
   ]
  },
  {
   "cell_type": "code",
   "execution_count": 5,
   "metadata": {},
   "outputs": [],
   "source": [
    "n = 5\n",
    "\n",
    "H2 = clause_to_H(n, formula[0])\n",
    "for i in formula[1:]:\n",
    "    H2 = H2 + clause_to_H(n, i)\n",
    "\n",
    "sigmax = np.array([[0, 1], [1, 0.]])\n",
    "H1 = np.zeros((2**5, 2**5))\n",
    "for k in range(n):\n",
    "    h = np.array([[1.0]])\n",
    "    for i in range(n):\n",
    "        if i==k:\n",
    "            h = np.kron(h, sigmax)\n",
    "        else:\n",
    "            h = np.kron(h, np.eye(2))\n",
    "    H1 = H1 + h\n",
    "    \n",
    "H = lambda tau: (1-tau) * H1 + tau * H2"
   ]
  },
  {
   "cell_type": "code",
   "execution_count": 6,
   "metadata": {},
   "outputs": [
    {
     "data": {
      "image/png": "[encoded data removed]",
      "text/plain": [
       "<Figure size 576x432 with 1 Axes>"
      ]
     },
     "metadata": {
      "needs_background": "light"
     },
     "output_type": "display_data"
    }
   ],
   "source": [
    "psi_0 = groundstate(H(0))\n",
    "psi_1 = groundstate(H(1))\n",
    "\n",
    "b1 = []\n",
    "b2 = []\n",
    "Tau = []\n",
    "for i in range(101):\n",
    "    tau = i/100.\n",
    "    Tau.append(tau)\n",
    "\n",
    "    psi_tau = groundstate(H(tau))\n",
    "    \n",
    "    b1.append(np.abs(np.inner(psi_tau, psi_0)))\n",
    "    b2.append(np.abs(np.inner(psi_tau, psi_1)))\n",
    "\n",
    "plt.figure(figsize=(8, 6))\n",
    "plt.plot(Tau, b1)\n",
    "plt.plot(Tau, b2)\n",
    "plt.show()"
   ]
  },
  {
   "cell_type": "code",
   "execution_count": null,
   "metadata": {},
   "outputs": [],
   "source": []
  }
 ],
 "metadata": {
  "kernel_info": {
   "name": "python3"
  },
  "kernelspec": {
   "display_name": "Python 3",
   "language": "python",
   "name": "python3"
  },
  "language_info": {
   "codemirror_mode": {
    "name": "ipython",
    "version": 3
   },
   "file_extension": ".py",
   "mimetype": "text/x-python",
   "name": "python",
   "nbconvert_exporter": "python",
   "pygments_lexer": "ipython3",
   "version": "3.6.6"
  },
  "nteract": {
   "version": "0.12.3"
  }
 },
 "nbformat": 4,
 "nbformat_minor": 4
}
